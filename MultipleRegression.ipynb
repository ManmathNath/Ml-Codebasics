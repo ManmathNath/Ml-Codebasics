{
  "nbformat": 4,
  "nbformat_minor": 0,
  "metadata": {
    "colab": {
      "provenance": [],
      "authorship_tag": "ABX9TyOSLuzUuLCmrQhhphrOKQuU",
      "include_colab_link": true
    },
    "kernelspec": {
      "name": "python3",
      "display_name": "Python 3"
    },
    "language_info": {
      "name": "python"
    }
  },
  "cells": [
    {
      "cell_type": "markdown",
      "metadata": {
        "id": "view-in-github",
        "colab_type": "text"
      },
      "source": [
        "<a href=\"https://colab.research.google.com/github/ManmathNath/Ml-Codebasics/blob/main/MultipleRegression.ipynb\" target=\"_parent\"><img src=\"https://colab.research.google.com/assets/colab-badge.svg\" alt=\"Open In Colab\"/></a>"
      ]
    },
    {
      "cell_type": "code",
      "execution_count": null,
      "metadata": {
        "id": "sr376KuXAqAq",
        "colab": {
          "base_uri": "https://localhost:8080/"
        },
        "outputId": "6ccb594d-0b98-4be5-d83a-a77cabd9bc72"
      },
      "outputs": [
        {
          "output_type": "stream",
          "name": "stderr",
          "text": [
            "/usr/local/lib/python3.10/dist-packages/sklearn/base.py:439: UserWarning: X does not have valid feature names, but LinearRegression was fitted with feature names\n",
            "  warnings.warn(\n"
          ]
        },
        {
          "output_type": "execute_result",
          "data": {
            "text/plain": [
              "array([175236.46071701])"
            ]
          },
          "metadata": {},
          "execution_count": 36
        }
      ],
      "source": [
        "\n",
        "\n",
        "import pandas as pd\n",
        "import numpy as np\n",
        "from sklearn import linear_model\n",
        "from matplotlib import pyplot as plt\n",
        "%matplotlib inline\n",
        "df= pd.read_csv(\"homeprices (1).csv\")\n",
        "df\n",
        "#find if nAn is present\n",
        "df.isnull()\n",
        "#fill nan value by using median\n",
        "df.bedrooms.median()\n",
        "#allocate  a new variable  to median\n",
        "import math\n",
        "bedroom_median=math.floor(df.bedrooms.median())\n",
        "bedroom_median\n",
        "# fill the median value using fillna()function\n",
        "df.bedrooms=df.bedrooms.fillna(bedroom_median)\n",
        "df\n",
        "#use linear regression\n",
        "reg=linear_model.LinearRegression()\n",
        "reg.fit(df[[\"area\",\"bedrooms\",\"age\"]],df[\"price\"])\n",
        "reg\n",
        "reg.predict([[3000,3,140]])"
      ]
    },
    {
      "cell_type": "code",
      "source": [],
      "metadata": {
        "id": "mPM54F86aXxz"
      },
      "execution_count": null,
      "outputs": []
    },
    {
      "cell_type": "markdown",
      "source": [],
      "metadata": {
        "id": "wxOxKQEsaQr_"
      }
    },
    {
      "cell_type": "code",
      "source": [
        "reg.predict([[2500,4,5]])"
      ],
      "metadata": {
        "colab": {
          "base_uri": "https://localhost:8080/"
        },
        "id": "CeD2iUL1P2JS",
        "outputId": "3e52bd49-e326-4b18-da85-5d7c4632ba18"
      },
      "execution_count": null,
      "outputs": [
        {
          "output_type": "stream",
          "name": "stderr",
          "text": [
            "/usr/local/lib/python3.10/dist-packages/sklearn/base.py:439: UserWarning: X does not have valid feature names, but LinearRegression was fitted with feature names\n",
            "  warnings.warn(\n"
          ]
        },
        {
          "output_type": "execute_result",
          "data": {
            "text/plain": [
              "array([578876.03748933])"
            ]
          },
          "metadata": {},
          "execution_count": 37
        }
      ]
    },
    {
      "cell_type": "code",
      "source": [
        "reg.coef_\n",
        "reg.intercept_"
      ],
      "metadata": {
        "colab": {
          "base_uri": "https://localhost:8080/"
        },
        "id": "LSxBIHuIPWab",
        "outputId": "204e6844-3255-487b-fea5-58dd78fc2a87"
      },
      "execution_count": null,
      "outputs": [
        {
          "output_type": "execute_result",
          "data": {
            "text/plain": [
              "221323.00186540396"
            ]
          },
          "metadata": {},
          "execution_count": 34
        }
      ]
    }
  ]
}