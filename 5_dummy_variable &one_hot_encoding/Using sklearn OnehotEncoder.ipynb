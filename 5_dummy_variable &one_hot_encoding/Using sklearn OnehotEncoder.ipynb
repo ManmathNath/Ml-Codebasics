{
  "cells": [
    {
      "cell_type": "code",
      "execution_count": null,
      "metadata": {
        "colab": {
          "base_uri": "https://localhost:8080/"
        },
        "id": "LTySBv5AOvsu",
        "outputId": "cca476b9-8ec9-407c-99b3-5e6c8c0048de"
      },
      "outputs": [
        {
          "output_type": "execute_result",
          "data": {
            "text/plain": [
              "0.9573929037221873"
            ]
          },
          "metadata": {},
          "execution_count": 14
        }
      ],
      "source": [
        "#Using sklearn One hot encoding\n",
        "#convert categorical values to numerical valu\n",
        "#Label Encoding =provides each category a unique numeric value\n",
        "#one hot Encoding =generates dummy columns for each category of the variable and generates binary number for them\n",
        "import pandas as pd\n",
        "df=pd.read_csv(\"homeprices (2).csv\")\n",
        "df\n",
        "#First step is to use label encoder to convert town names into number\n",
        "from sklearn.preprocessing import LabelEncoder\n",
        "le=LabelEncoder()#creates object  type of this variables\n",
        "dfle=df\n",
        "df[\"town\"]=le.fit_transform(df[\"town\"])\n",
        "df\n",
        "#x=training datz set\n",
        "#y=dependent variable\n",
        "x=dfle[[\"town\",\"area\"]].values #we use .values because we want to create a 2d array not an dataframe\n",
        "x\n",
        "y=dfle[\"price\"].values\n",
        "y\n",
        "#use One Hot Encoding\n",
        "\n",
        "from sklearn.preprocessing import OneHotEncoder\n",
        "from sklearn.compose import ColumnTransformer\n",
        "#Now use one hot encoder to create dummy variables for each of the town\n",
        "ct= ColumnTransformer([(\"town\",OneHotEncoder(),[0])],remainder='passthrough')\n",
        "#categorical feature indicates that not all are categorical just the 0th column is categorical\n",
        "x=ct.fit_transform(x)\n",
        "x\n",
        "x=x[:,1:]\n",
        "x\n",
        "from sklearn.linear_model import LinearRegression\n",
        "model=LinearRegression()\n",
        "model.fit(x,y)\n",
        "# 3400 sqr ft home in west windsor[ohe=0,1]\n",
        "\n",
        "#monroe\n",
        "model.predict([[0,1,3400]])\n",
        "# 2800 sqr ft home in robbinsville[ohe=1,0]\n",
        "model.predict([[1,0,2800]])\n",
        "model.score(x,y)"
      ]
    }
  ],
  "metadata": {
    "colab": {
      "provenance": [],
      "authorship_tag": "ABX9TyO+6POJceY3iUUK0JmMjBuo"
    },
    "kernelspec": {
      "display_name": "Python 3",
      "name": "python3"
    },
    "language_info": {
      "name": "python"
    }
  },
  "nbformat": 4,
  "nbformat_minor": 0
}