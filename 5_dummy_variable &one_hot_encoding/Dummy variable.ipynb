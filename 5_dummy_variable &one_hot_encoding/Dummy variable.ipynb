{
  "nbformat": 4,
  "nbformat_minor": 0,
  "metadata": {
    "colab": {
      "provenance": [],
      "authorship_tag": "ABX9TyNO3Qw8DG6iUFUm6Q4SNM2z",
      "include_colab_link": true
    },
    "kernelspec": {
      "name": "python3",
      "display_name": "Python 3"
    },
    "language_info": {
      "name": "python"
    }
  },
  "cells": [
    {
      "cell_type": "markdown",
      "metadata": {
        "id": "view-in-github",
        "colab_type": "text"
      },
      "source": [
        "<a href=\"https://colab.research.google.com/github/ManmathNath/Ml-Codebasics/blob/main/5_dummy_variable%20%26one_hot_encoding/Dummy%20variable.ipynb\" target=\"_parent\"><img src=\"https://colab.research.google.com/assets/colab-badge.svg\" alt=\"Open In Colab\"/></a>"
      ]
    },
    {
      "cell_type": "code",
      "execution_count": null,
      "metadata": {
        "id": "kh6Tw0VW5S1a",
        "colab": {
          "base_uri": "https://localhost:8080/"
        },
        "outputId": "28fe2c19-c609-4073-89e7-29da21355ce5"
      },
      "outputs": [
        {
          "output_type": "stream",
          "name": "stderr",
          "text": [
            "/usr/local/lib/python3.10/dist-packages/sklearn/base.py:439: UserWarning: X does not have valid feature names, but LinearRegression was fitted with feature names\n",
            "  warnings.warn(\n"
          ]
        },
        {
          "output_type": "execute_result",
          "data": {
            "text/plain": [
              "0.9573929037221872"
            ]
          },
          "metadata": {},
          "execution_count": 31
        }
      ],
      "source": [
        "import pandas as pd\n",
        "df=pd.read_csv(\"homeprices (2).csv\")\n",
        "df\n",
        "#ADD DUMMY VARIABLE AND THE COLUMN NAME SHOULD BE MENTIONED\n",
        "dummies=pd.get_dummies(df['town'])\n",
        "dummies\n",
        "#ADD TWO DataFrame\n",
        "Newdf=pd.concat([df,dummies],axis=1)\n",
        "Newdf\n",
        "final=Newdf.drop(['town','west windsor'],axis=1)\n",
        "final\n",
        "from sklearn.linear_model import LinearRegression\n",
        "model=LinearRegression()\n",
        "#create LinearRegression model object\n",
        "x = final.drop('price',axis=1)\n",
        "x\n",
        "y=final['price']\n",
        "y\n",
        "model.fit(x,y)\n",
        "#find price of 2800 sqr ft in Robbinsville\n",
        "model.predict([[2800,0,1]])\n",
        "model.score(x,y)"
      ]
    }
  ]
}